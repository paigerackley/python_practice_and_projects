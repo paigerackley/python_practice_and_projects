{
 "cells": [
  {
   "cell_type": "markdown",
   "id": "be7305d6",
   "metadata": {},
   "source": [
    "## Milestone Project 2 - Blackjack\n",
    "\n",
    "\n",
    "### Game Play\n",
    "To play a hand of Blackjack the following steps must be followed:\n",
    "\n",
    "1. Create a deck of 52 cards\n",
    "2. Shuffle the deck\n",
    "3. Ask the Player for their bet\n",
    "4. Make sure that the Player's bet does not exceed their available chips\n",
    "5. Deal two cards to the Dealer and two cards to the Player\n",
    "6. Show only one of the Dealer's cards, the other remains hidden\n",
    "7. Show both of the Player's cards\n",
    "8. Ask the Player if they wish to Hit, and take another card\n",
    "9. If the Player's hand doesn't Bust (go over 21), ask if they'd like to Hit again.\n",
    "10. If a Player Stands, play the Dealer's hand. The dealer will always Hit until the Dealer's value meets or exceeds 17\n",
    "11. Determine the winner and adjust the Player's chips accordingly\n",
    "12. Ask the Player if they'd like to play again\n",
    "\n",
    "\n",
    "\n",
    "\n",
    "### Playing Cards\n",
    "A standard deck of playing cards has four suits (Hearts, Diamonds, Spades and Clubs) and thirteen ranks (2 through 10, then the face cards Jack, Queen, King and Ace) for a total of 52 cards per deck. Jacks, Queens and Kings all have a rank of 10. Aces have a rank of either 11 or 1 as needed to reach 21 without busting. As a starting point in your program, you may want to assign variables to store a list of suits, ranks, and then use a dictionary to map ranks to values.\n",
    "\n",
    "\n",
    "### The Game\n",
    "#### Imports and Global Variables\n",
    "#### Step 1: Import the random module. This will be used to shuffle the deck prior to dealing. Then, declare variables to store suits, ranks and values. \n",
    "\n",
    "\n",
    "suits = ('Hearts', 'Diamonds', 'Spades', 'Clubs')\n",
    "\n",
    "ranks = ('Two', 'Three', 'Four', 'Five', 'Six', 'Seven', 'Eight', 'Nine', 'Ten', 'Jack', 'Queen', 'King', 'Ace')\n",
    "\n",
    "values = {'Two':2, 'Three':3, 'Four':4, 'Five':5, 'Six':6, 'Seven':7, 'Eight':8, 'Nine':9, 'Ten':10, 'Jack':10,\n",
    "         'Queen':10, 'King':10, 'Ace':11}"
   ]
  },
  {
   "cell_type": "code",
   "execution_count": 1,
   "id": "3634a3b0",
   "metadata": {},
   "outputs": [],
   "source": [
    "import random\n",
    "\n",
    "suits = ('Hearts', 'Diamonds', 'Spades', 'Clubs')\n",
    "ranks = ('Two', 'Three', 'Four', 'Five', 'Six', 'Seven', 'Eight', 'Nine', 'Ten', 'Jack', 'Queen', 'King', 'Ace')\n",
    "values = {'Two':2, 'Three':3, 'Four':4, 'Five':5, 'Six':6, 'Seven':7, 'Eight':8, 'Nine':9, 'Ten':10, 'Jack':10, 'Queen':10, 'King':10, 'Ace':11}\n",
    "\n",
    "playing = True"
   ]
  },
  {
   "cell_type": "markdown",
   "id": "7270784c",
   "metadata": {},
   "source": [
    "#### Class Definitions\n",
    "\n",
    "##### Step 2: Create a Card Class"
   ]
  },
  {
   "cell_type": "code",
   "execution_count": 2,
   "id": "0068687d",
   "metadata": {},
   "outputs": [],
   "source": [
    "class Card():\n",
    "    \n",
    "    def __init__(self,suit,rank):\n",
    "        self.suit = suit\n",
    "        self.rank = rank\n",
    "        \n",
    "        \n",
    "    def __str__(self):\n",
    "        return self.rank+ \" of \"+self.suit"
   ]
  },
  {
   "cell_type": "markdown",
   "id": "14ea0930",
   "metadata": {},
   "source": [
    "#### Step 3: Create a Deck Class"
   ]
  },
  {
   "cell_type": "code",
   "execution_count": 3,
   "id": "93fb869f",
   "metadata": {},
   "outputs": [],
   "source": [
    "class Deck():\n",
    "    \n",
    "    def __init__(self):\n",
    "        self.deck = []\n",
    "        for suit in suits:\n",
    "            for rank in ranks:\n",
    "                self.deck.append(Card(suit,rank))\n",
    "            \n",
    "    def __str__(self):\n",
    "        deck_comp = ''\n",
    "        for card in self.deck:\n",
    "            deck_comp += '\\n'+ card.__str__()\n",
    "        return \"The deck as: \"+deck_comp\n",
    "    \n",
    "    def shuffle(self):\n",
    "        random.shuffle(self.deck)\n",
    "        \n",
    "    def deal(self):\n",
    "        single_card = self.deck.pop()\n",
    "        return single_card"
   ]
  },
  {
   "cell_type": "code",
   "execution_count": 4,
   "id": "fab352bb",
   "metadata": {},
   "outputs": [
    {
     "name": "stdout",
     "output_type": "stream",
     "text": [
      "The deck as: \n",
      "Eight of Clubs\n",
      "Ace of Clubs\n",
      "Five of Hearts\n",
      "Seven of Diamonds\n",
      "Seven of Hearts\n",
      "Two of Hearts\n",
      "Two of Clubs\n",
      "Queen of Spades\n",
      "Ten of Hearts\n",
      "Six of Diamonds\n",
      "Ace of Spades\n",
      "Five of Clubs\n",
      "Jack of Hearts\n",
      "Nine of Spades\n",
      "King of Clubs\n",
      "Two of Diamonds\n",
      "Four of Hearts\n",
      "Nine of Clubs\n",
      "Eight of Spades\n",
      "Four of Clubs\n",
      "Three of Hearts\n",
      "Seven of Spades\n",
      "Six of Hearts\n",
      "Six of Spades\n",
      "Jack of Clubs\n",
      "Four of Diamonds\n",
      "Nine of Hearts\n",
      "Five of Diamonds\n",
      "Ten of Diamonds\n",
      "Seven of Clubs\n",
      "Eight of Diamonds\n",
      "Six of Clubs\n",
      "King of Diamonds\n",
      "Jack of Spades\n",
      "Two of Spades\n",
      "Ten of Spades\n",
      "Three of Clubs\n",
      "Eight of Hearts\n",
      "Ace of Diamonds\n",
      "Ace of Hearts\n",
      "Queen of Diamonds\n",
      "Three of Spades\n",
      "Jack of Diamonds\n",
      "Four of Spades\n",
      "Five of Spades\n",
      "Queen of Hearts\n",
      "Nine of Diamonds\n",
      "King of Hearts\n",
      "King of Spades\n",
      "Queen of Clubs\n",
      "Ten of Clubs\n",
      "Three of Diamonds\n"
     ]
    }
   ],
   "source": [
    "# Test\n",
    "test_deck = Deck()\n",
    "test_deck.shuffle()\n",
    "print(test_deck)"
   ]
  },
  {
   "cell_type": "markdown",
   "id": "1650ba49",
   "metadata": {},
   "source": [
    "#### Step 4: Create a Hands Class"
   ]
  },
  {
   "cell_type": "code",
   "execution_count": 13,
   "id": "cca4061a",
   "metadata": {},
   "outputs": [],
   "source": [
    "class Hand:\n",
    "    def __init__(self):\n",
    "        self.cards = []\n",
    "        self.value = 0\n",
    "        self.aces = 0\n",
    "    \n",
    "    def add_card(self,card):\n",
    "        # card passed in \n",
    "        # from Deck.deal() --> single Card(suit,rank)\n",
    "        self.cards.append(card)\n",
    "        self.value += values[card.rank]\n",
    "        \n",
    "        # track aces\n",
    "        if card.rank == 'Ace':\n",
    "            self.aces += 1\n",
    "    \n",
    "    def adjust_for_ace(self):\n",
    "        \n",
    "        # IF TOTAL VALUE > 21 AND I STILL HAVE AN ACE\n",
    "        # THEN CHANGE MY ACE TO BE A 1 INSTEAD of 11\n",
    "        while self.value > 21 and self.aces:\n",
    "            self.value -= 10\n",
    "            self.aces -= 1"
   ]
  },
  {
   "cell_type": "code",
   "execution_count": 7,
   "id": "f393c29e",
   "metadata": {},
   "outputs": [
    {
     "name": "stdout",
     "output_type": "stream",
     "text": [
      "Eight of Hearts\n",
      "8\n"
     ]
    }
   ],
   "source": [
    "#Testing\n",
    "test_deck = Deck()\n",
    "test_deck.shuffle()\n",
    "# PLAYER\n",
    "test_player = Hand()\n",
    "# Deal 1 card from deck CARD(suit,rank)\n",
    "pulled_card = test_deck.deal()\n",
    "print(pulled_card)\n",
    "test_player.add_card(pulled_card)\n",
    "print(test_player.value)"
   ]
  },
  {
   "cell_type": "markdown",
   "id": "c31a789e",
   "metadata": {},
   "source": [
    "#### Step 5: Create a Chips Class"
   ]
  },
  {
   "cell_type": "code",
   "execution_count": null,
   "id": "bf1b1152",
   "metadata": {},
   "outputs": [],
   "source": []
  }
 ],
 "metadata": {
  "kernelspec": {
   "display_name": "Python 3 (ipykernel)",
   "language": "python",
   "name": "python3"
  },
  "language_info": {
   "codemirror_mode": {
    "name": "ipython",
    "version": 3
   },
   "file_extension": ".py",
   "mimetype": "text/x-python",
   "name": "python",
   "nbconvert_exporter": "python",
   "pygments_lexer": "ipython3",
   "version": "3.9.13"
  }
 },
 "nbformat": 4,
 "nbformat_minor": 5
}
