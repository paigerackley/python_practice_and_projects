{
 "cells": [
  {
   "cell_type": "code",
   "execution_count": 74,
   "id": "2db49f98",
   "metadata": {},
   "outputs": [],
   "source": [
    "# Card\n",
    "# Suit, Rank, Value\n",
    "import random\n",
    "suits = ('Hearts', 'Diamonds', 'Spades', 'Clubs')\n",
    "ranks = ('Two', 'Three', 'Four', 'Five', 'Six', 'Seven', 'Eight', 'Nine', 'Ten', 'Jack', 'Queen', 'King', 'Ace')\n",
    "values = {'Two':2, 'Three':3, 'Four':4, 'Five':5, 'Six':6, 'Seven':7, 'Eight':8, \n",
    "            'Nine':9, 'Ten':10, 'Jack':11, 'Queen':12, 'King':13, 'Ace':14}"
   ]
  },
  {
   "cell_type": "code",
   "execution_count": 62,
   "id": "042cdc9e",
   "metadata": {},
   "outputs": [],
   "source": [
    "class Card:\n",
    "    \n",
    "    def __init__(self,suit,rank):\n",
    "        self.suit = suit\n",
    "        self.rank = rank\n",
    "        self.value = values[rank]\n",
    "        \n",
    "    def __str__(self):\n",
    "        return self.rank + \" of \" + self.suit"
   ]
  },
  {
   "cell_type": "code",
   "execution_count": 63,
   "id": "81507b86",
   "metadata": {},
   "outputs": [],
   "source": [
    "three_of_clubs = Card('Clubs','Three')"
   ]
  },
  {
   "cell_type": "code",
   "execution_count": 64,
   "id": "68369891",
   "metadata": {},
   "outputs": [
    {
     "data": {
      "text/plain": [
       "3"
      ]
     },
     "execution_count": 64,
     "metadata": {},
     "output_type": "execute_result"
    }
   ],
   "source": [
    "three_of_clubs.value"
   ]
  },
  {
   "cell_type": "code",
   "execution_count": 65,
   "id": "90135473",
   "metadata": {},
   "outputs": [],
   "source": [
    "two_hearts = Card('Hearts','Two')"
   ]
  },
  {
   "cell_type": "code",
   "execution_count": 66,
   "id": "c90a7760",
   "metadata": {},
   "outputs": [
    {
     "data": {
      "text/plain": [
       "<__main__.Card at 0x20281db2b50>"
      ]
     },
     "execution_count": 66,
     "metadata": {},
     "output_type": "execute_result"
    }
   ],
   "source": []
  },
  {
   "cell_type": "code",
   "execution_count": 67,
   "id": "f88decb7",
   "metadata": {},
   "outputs": [
    {
     "name": "stdout",
     "output_type": "stream",
     "text": [
      "Two of Hearts\n"
     ]
    }
   ],
   "source": [
    "print(two_hearts)"
   ]
  },
  {
   "cell_type": "code",
   "execution_count": 68,
   "id": "107a2362",
   "metadata": {},
   "outputs": [
    {
     "data": {
      "text/plain": [
       "'Hearts'"
      ]
     },
     "execution_count": 68,
     "metadata": {},
     "output_type": "execute_result"
    }
   ],
   "source": [
    "two_hearts.suit"
   ]
  },
  {
   "cell_type": "code",
   "execution_count": 69,
   "id": "6fa161d9",
   "metadata": {},
   "outputs": [
    {
     "data": {
      "text/plain": [
       "'Two'"
      ]
     },
     "execution_count": 69,
     "metadata": {},
     "output_type": "execute_result"
    }
   ],
   "source": [
    "two_hearts.rank"
   ]
  },
  {
   "cell_type": "code",
   "execution_count": 70,
   "id": "311689e4",
   "metadata": {},
   "outputs": [
    {
     "data": {
      "text/plain": [
       "2"
      ]
     },
     "execution_count": 70,
     "metadata": {},
     "output_type": "execute_result"
    }
   ],
   "source": [
    "two_hearts.value"
   ]
  },
  {
   "cell_type": "code",
   "execution_count": 72,
   "id": "a387cb29",
   "metadata": {},
   "outputs": [
    {
     "data": {
      "text/plain": [
       "True"
      ]
     },
     "execution_count": 72,
     "metadata": {},
     "output_type": "execute_result"
    }
   ],
   "source": [
    "two_hearts.value < three_of_clubs.value"
   ]
  },
  {
   "cell_type": "code",
   "execution_count": null,
   "id": "90902bfd",
   "metadata": {},
   "outputs": [],
   "source": []
  }
 ],
 "metadata": {
  "kernelspec": {
   "display_name": "Python 3 (ipykernel)",
   "language": "python",
   "name": "python3"
  },
  "language_info": {
   "codemirror_mode": {
    "name": "ipython",
    "version": 3
   },
   "file_extension": ".py",
   "mimetype": "text/x-python",
   "name": "python",
   "nbconvert_exporter": "python",
   "pygments_lexer": "ipython3",
   "version": "3.9.13"
  }
 },
 "nbformat": 4,
 "nbformat_minor": 5
}
